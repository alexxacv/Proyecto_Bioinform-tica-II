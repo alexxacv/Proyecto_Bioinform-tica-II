{
 "cells": [
  {
   "cell_type": "markdown",
   "id": "49bbfc49",
   "metadata": {},
   "source": [
    "# Bitácora Proyeco Bioinformatíca II"
   ]
  },
  {
   "cell_type": "markdown",
   "id": "3c2779fb",
   "metadata": {},
   "source": [
    "### Salvador Alejandro Cuevas Villicaña\n",
    "### Licenciatura en Ciencias Agrogenómicas\n",
    "### Escuela Nacional de Estudios Superiores Unidad León\n",
    "### Universidad Nacional Autónoma de México"
   ]
  },
  {
   "cell_type": "markdown",
   "id": "517228ba",
   "metadata": {},
   "source": [
    "Elegí hacer el ensamble del genoma de pseudomonas aeruginosa, una bacteria gram negativa, que es oportunista en plantas y animales causando enfermedades en las vías respiratorias, urinarias, tejidos y generando sepsis. La razón de elegir esta bacteria es por la gran cantidad de información que hay al respecto sobre ella.\n",
    "\n",
    "La manera en que esta Estrucutrada la bitacora es que esta dividida en cada uno de los puntos solcitados:\n",
    "\n",
    "#### 0) Descargar el genoma\n",
    "\n",
    "#### 1) Control de calidad\n",
    "\n",
    "#### 2) Filtrado de secuencias\n",
    "\n",
    "#### 3) Calculo de cobertura\n",
    "\n",
    "#### 4) Mapeo\n",
    "\n",
    "#### 5) Ensamble del genoma\n",
    "\n",
    "#### 6) Anotación\n",
    "\n",
    "\n",
    "Para realizar cada punto me baso en las clases del curso y en algunos artículos, y en cada punto cito si es en el curso y/o en un artículo."
   ]
  },
  {
   "cell_type": "markdown",
   "id": "152d5e68",
   "metadata": {},
   "source": [
    "<br>"
   ]
  },
  {
   "cell_type": "markdown",
   "id": "6d9e0ffc",
   "metadata": {},
   "source": [
    "<br>"
   ]
  },
  {
   "cell_type": "markdown",
   "id": "a399c0a8",
   "metadata": {},
   "source": [
    "<br>"
   ]
  },
  {
   "cell_type": "markdown",
   "id": "7640dc53",
   "metadata": {},
   "source": [
    "### 0) Descagar el genoma\n",
    "\n",
    "Descarge el genoma de pseudomonas aeruginosa de la base de datos SRA del NCBI, basandome en lo visto en clase, mediante el comando `fastq-dump --split-3 SRR######`, especificamente la seucencia que elegí tiene el indicador SRR17084770, conectandome desde GAIA el comando que utilice es:"
   ]
  },
  {
   "cell_type": "markdown",
   "id": "f5d35881",
   "metadata": {},
   "source": [
    "`fastq-dump --split-3 SRR17084738`"
   ]
  },
  {
   "cell_type": "markdown",
   "id": "b8199ca8",
   "metadata": {},
   "source": [
    "La inormación de la secuencia es:\n",
    "\n",
    "-Size: 282.1Mb\n",
    "\n",
    "-Instrument: Illumina MiSeq\n",
    "\n",
    "-Strategy: WGS\n",
    "\n",
    "-Source: GENOMIC\n",
    "    \n",
    "-Selection: RANDOM\n",
    "\n",
    "-Layout: PAIRED\n"
   ]
  },
  {
   "cell_type": "markdown",
   "id": "0e224444",
   "metadata": {},
   "source": [
    "<br>"
   ]
  },
  {
   "cell_type": "markdown",
   "id": "7dde3649",
   "metadata": {},
   "source": [
    "### 1) Control de Calidad\n",
    "\n",
    "El primer análisis de control de calidad se realizó mediante FASTQC, el comando que usé es:\n",
    "\n",
    "`fastqc SRR*`\n",
    "\n",
    "Este comando realizo el análisis de ambos archivos obteniendo los resultados del primer control de calidad, donde se vio que la muestra que el SRR17084738_1.fastq muestra mejor calidad que el SRR17084738_2.fastq. Las capturas de pantalla de esto se adjuntan en el PDF, y los html en el repositorio. Pero lo más destacable al respecto es que:\n",
    "\n",
    "- Tamaño total: 1,024,419 secuencias\n",
    "\n",
    "- %GC : 65, mas que el porcentaje teoríco\n",
    "\n",
    "También el FastQC arrojó que la muestra estaba contaminada con el adaptador \"nextera transposase sequence\", por lo que el siguiente paso fue realizar un filtrado de secuencias"
   ]
  },
  {
   "cell_type": "markdown",
   "id": "eff91c2d",
   "metadata": {},
   "source": [
    "<br>"
   ]
  },
  {
   "cell_type": "markdown",
   "id": "f09b799f",
   "metadata": {},
   "source": [
    "### 2) Filtrado de secuencias\n",
    "\n",
    "Antes de realizar el filtrado de secuencias me dio interes por saber en que escala phred se encontrabn mis seceucnias, para no tener porblemas de compatibilidad, y lo realice mediante el comando:\n",
    "\n",
    "` vsearch --fastq_chars SRR17084738_*`\n",
    "\n",
    "Evidentemente, antes habia que instalar vsearch, pero una vez esto, se nos confirma que las seceucnias estan en escala phred 33\n",
    "\n",
    "Para el filtrado de secuencias me apoye en fastp y consultado el manual del mismo opte por poner un filtro de calidad de phred 25 mediante la opción `--qualified_quality_phred` , la razón de elegir un phred de 30 es que elegir un valor más alto eliminaría muchas más secuencias dado la baja calidad que viene en el SRR17084738_2.fastq a comparación del primero, y considerando que el valor de phred 30 da un error de 1 en 1000, considere dejarlo así. Entonces el comando que use queda como:\n",
    "\n",
    "`fastp -i SRR17084738_1.fastq -I SRR17084738_2.fastq -o filtrado_1.fastq -O filtrado_2.fastq --qualified_quality_phred 30`\n",
    "\n",
    "Una vez realizado el filtrado se procedió a realizar un analisis mediante FASTQC para compararlos con los orginales. \n",
    "\n",
    "`fastqc filtrado_*`\n",
    "\n",
    "Los archivos FASTQC nuevos nos muestran que si se eliminaron los adaptadores y que el numero total de seucencias que nos quedarón son 766,287"
   ]
  },
  {
   "cell_type": "markdown",
   "id": "da26b0b9",
   "metadata": {},
   "source": [
    "<br>"
   ]
  },
  {
   "cell_type": "markdown",
   "id": "92348b3a",
   "metadata": {},
   "source": [
    "### 3) Calculo de cobertura\n",
    "\n",
    "Para el cálculo de cobertura realice los sigueintes comandos:"
   ]
  },
  {
   "cell_type": "raw",
   "id": "0f99ff18",
   "metadata": {},
   "source": [
    "cat filtrado_1.fastq | paste - - - - | awk '{print$2}' | wc -l"
   ]
  },
  {
   "cell_type": "markdown",
   "id": "fed22da4",
   "metadata": {},
   "source": [
    "Cuyo resultado es 766287, es decir el numero total secuencias."
   ]
  },
  {
   "cell_type": "raw",
   "id": "224f5a23",
   "metadata": {},
   "source": [
    "cat filtrado_1.fastq | paste - - - - | awk '{print$2}' | wc -c"
   ]
  },
  {
   "cell_type": "markdown",
   "id": "88535c46",
   "metadata": {},
   "source": [
    "Cuyo resultado es 5300155"
   ]
  },
  {
   "cell_type": "markdown",
   "id": "419102ab",
   "metadata": {},
   "source": [
    "Ahora se resta el segundo valor menos el primero para obtener el valor de la cobertura"
   ]
  },
  {
   "cell_type": "code",
   "execution_count": 13,
   "id": "ca4b5d47",
   "metadata": {},
   "outputs": [
    {
     "data": {
      "text/plain": [
       "4533868"
      ]
     },
     "execution_count": 13,
     "metadata": {},
     "output_type": "execute_result"
    }
   ],
   "source": [
    "5300155 - 766287"
   ]
  },
  {
   "cell_type": "markdown",
   "id": "5501e528",
   "metadata": {},
   "source": [
    "Los mismos resultados se obtienen con `filtrado_2.fastq`"
   ]
  },
  {
   "cell_type": "markdown",
   "id": "3de66f9c",
   "metadata": {},
   "source": [
    "<br>"
   ]
  },
  {
   "cell_type": "markdown",
   "id": "d3cdb086",
   "metadata": {},
   "source": [
    "### 4) Mapeo"
   ]
  },
  {
   "cell_type": "markdown",
   "id": "5c9e731f",
   "metadata": {},
   "source": [
    "Para el mapeo me apoye en la herramienta de bowtie2. Entonces una vez teniendo los archivos `filtrado_1.fastq` y `filtrado_2.fastq` en GAIA, primero active el envairoment de bowtie2 con `conda activate bowtie2`. Una vez teniendo esto se construyó el índice de referencia del mapeo con el comando:\n",
    "\n",
    "`bowtie2-build -f refgenome.fasta REFpsea`\n",
    "\n",
    "Luego se procedió a realizar el mapeo con el comando:\n",
    "\n",
    "`bowtie2 -S filtradovsPsea.sam -q --phred33 -p 4 --fr -x  REFpsea -1 filtrado_1.fastq -2 filtrado_2.fastq >& bowtie_psea.log`\n",
    "\n",
    "Posteriormente por cuestiones de espacio en GAIA baje el archivo de mapeo `filtradovsPsea.sam` a mi computadora para poder eliminar las secuencias que no mapearon mediante el comando:\n",
    "\n",
    "awk $3!=\"*\" filtradovsPsea.sam >filtradovsREF_reducido.sam"
   ]
  },
  {
   "cell_type": "markdown",
   "id": "58ec3ece",
   "metadata": {},
   "source": [
    "<br>"
   ]
  },
  {
   "cell_type": "markdown",
   "id": "befa8018",
   "metadata": {},
   "source": [
    "### 5) Ensamble de genoma"
   ]
  },
  {
   "cell_type": "markdown",
   "id": "c7aaec3c",
   "metadata": {},
   "source": [
    "Para el ensamble del genoma me apoye en el software SPAdes instalado en GAIA, el comando usado es:\n",
    "\n",
    "`spades.py -k 21,33,37,41,55,77 -t 4 -m 8 --pe1-1 filtrado_1.fastq --pe1-2 filtrado_2.fastq -o spades_Psea`\n",
    "\n",
    "Las opciones del comando usado son -k 21,33,37,41,55,77 que indican los valores de tamaños k-mer que se utilizarán, -t 4 que indica el número de hilos, 4 en este caso, -m que indica el número máximo de memoria RAM que puede usar SPAdes y --pe1-1 y --pe1-2 que indica cual es el archivo 1 y el 2 respectivamente del pareo.\n",
    "\n",
    "Luego se realizó un análisis de calidad dentro de la carpeta generada `spades_Psea` mediante el comando `quast --split-scaffolds -t 1 scaffolds.fasta`. Se descargaron estos archivos y posteriormente se realizo un analisis de calidad con el genoma de referencia mediante el comando: `quast.py --split-scaffolds -t 1 -r ../refgenome.fasta scaffolds.fasta`. Y se prosiguió a comparar ambos resultados."
   ]
  },
  {
   "cell_type": "markdown",
   "id": "c3a6902d",
   "metadata": {},
   "source": [
    "<br>"
   ]
  },
  {
   "cell_type": "markdown",
   "id": "bb7bbee4",
   "metadata": {},
   "source": [
    "### 6) Anotación"
   ]
  },
  {
   "cell_type": "markdown",
   "id": "75c0ce82",
   "metadata": {},
   "source": [
    "Una vez teniendo los resultados del ensamble procederemos a separar los scaffolds obtenidos en el archivo `scaffolds.fasta`, para poder realizar la anotación de los mismos. Por términos prácticos solo realice la preparación del primer scaffold porque el procedimiento es el mismo para los demás, 80 en este caso.\n",
    "\n",
    "Primero se convierte el archivo `scaffolds.fasta` a formato tabular mediante el comando:"
   ]
  },
  {
   "cell_type": "raw",
   "id": "8020e4b3",
   "metadata": {},
   "source": [
    "perl -e ' $count=0; $len=0; while(<>) { s/\\r?\\n//; s/\\t/ /g; if (s/^>//) { if ($. != 1) { print \"\\n\" } s/ |$/\\t/; $count++; $_ .= \"\\t\"; } else { s/ //g; $len += length($_) } print $_; } print \"\\n\"; warn \"\\nConverted $count FASTA records in $. lines to tabular format\\nTotal sequence length: $len\\n\\n\"; ' scaffolds.fasta > scaffolds.tab"
   ]
  },
  {
   "cell_type": "markdown",
   "id": "b6cca5ca",
   "metadata": {},
   "source": [
    "Luego se calcula la longitud de la última columna de `scaffolds.tab` que es la longitud del scaffolds"
   ]
  },
  {
   "cell_type": "raw",
   "id": "419ab913",
   "metadata": {},
   "source": [
    "perl -e ' $col=-1; while (<>) { s/\\r?\\n//; @F = split /\\t/, $_; $len = length($F[$col]); print \"$_\\t$len\\n\" } warn \"\\nAdded column with length of column $col for $. lines.\\n\\n\"; ' scaffolds.tab > seqs_length.tab "
   ]
  },
  {
   "cell_type": "markdown",
   "id": "60bd72f2",
   "metadata": {},
   "source": [
    "Luego se corta esa última columna que nos indica el valor numérico de la longitud del scaffols, mediante el comando:\n",
    "\n",
    "`cut -f 4 seqs_length.tab > onlylength.list`"
   ]
  },
  {
   "cell_type": "markdown",
   "id": "2a5c9199",
   "metadata": {},
   "source": [
    "Luego con `cat onlylength.list | more` vemos la longitud de los Scaffolds que tenemos. Elegí los dos primeros: es decir los de longitud: 668648 y 521700\n",
    "\n",
    "Ahora vamos a ver la nomenclatura de estos scaffolds para poder sepáralos del resto. Esto lo hice mediante `head -n 1 seqs_length.tab | cut -f 1`. Dando como resultado que los dos primeros scaffols se llaman:\n",
    "\n",
    "- NODE_1_length_668648_cov_39.096881\n",
    "\n",
    "\n",
    "Ahora con el comando `vim` realizo un archivo `.list` donde ingrese el nombre del scaffold correspondiente.:\n",
    "\n",
    "`vim SCA1.list`\n",
    "\n",
    "\n",
    "Luego se realizó el corte de dicho scaffold con:"
   ]
  },
  {
   "cell_type": "raw",
   "id": "942557c7",
   "metadata": {},
   "source": [
    "perl -e ' ($id,$fasta)=@ARGV; open(ID,$id); while (<ID>) { s/\\r?\\n//; /^>?(\\S+)/; $ids{$1}++; } $num_ids = keys %ids; open(F, $fasta); $s_read = $s_wrote = $print_it = 0; while (<F>) { if (/^>(\\S+)/) { $s_read++; if ($ids{$1}) { $s_wrote++; $print_it = 1; delete $ids{$1} } else { $print_it = 0 } }; if ($print_it) { print $_ } }; END { warn \"Searched $s_read FASTA records.\\nFound $s_wrote IDs out of $num_ids in the ID list.\\n\" } ' SCA1.list scaffolds.fasta > scaffold_NODE_1.fna"
   ]
  },
  {
   "cell_type": "markdown",
   "id": "4d21eff7",
   "metadata": {},
   "source": [
    "Ahora teniendo nuestro scaffold NODE_1 procedermos a realizar la anotacion estructural y esto es mediante la interfaz web de augustus `https://bioinf.uni-greifswald.de/augustus/`. Como parametros elegi como organismo de referencia a *escherichia coli* Report genes en both strands y Alternative transcripts en middle"
   ]
  },
  {
   "cell_type": "markdown",
   "id": "cfb74851",
   "metadata": {},
   "source": [
    "Luego de correr augusuts y de comparar las partes graficas del reporte. Extraje una parte del predicted amino acid sequences y del predicted coding sequences de cada scaffold para poder realizar un blast y comprobar resultados. Los genes g401.t1 al g425.t1 fueron los que elegi para realzar la anotación funcional"
   ]
  },
  {
   "cell_type": "markdown",
   "id": "6353f830",
   "metadata": {},
   "source": [
    "Los archivos los relice con vim:\n",
    "\n",
    "`vim aminoacids.faa`\n",
    "\n",
    "`vim nucleotids.fna`\n"
   ]
  },
  {
   "cell_type": "markdown",
   "id": "31fe89dc",
   "metadata": {},
   "source": [
    "Primero realicé un blastx con erl archivo de nucleotidos.fna contra la base de datos de non-redundant protein sequences (nr) y los demás datos en default. Dándome de regreso que codifica cada gen, su longitud y porcentaje de identidad. Luego corrí el mismo archivo nucleotidos.fna en Blast2GO donde al compararlo con las bases de datos de interpro me da el mismo tamaño de longitud, pero solo 7 de estos datos lograron completar su BLAST y solo 6 de ellos pudieron mapear y generar anotación. Por lo que combine ambos resultados para poder llegar a mi anotación funcional y por consiguiente a mis resultados y conclusiones."
   ]
  },
  {
   "cell_type": "code",
   "execution_count": null,
   "id": "2bbcd982",
   "metadata": {},
   "outputs": [],
   "source": []
  }
 ],
 "metadata": {
  "kernelspec": {
   "display_name": "Python 3",
   "language": "python",
   "name": "python3"
  },
  "language_info": {
   "codemirror_mode": {
    "name": "ipython",
    "version": 3
   },
   "file_extension": ".py",
   "mimetype": "text/x-python",
   "name": "python",
   "nbconvert_exporter": "python",
   "pygments_lexer": "ipython3",
   "version": "3.8.8"
  },
  "widgets": {
   "application/vnd.jupyter.widget-state+json": {
    "state": {},
    "version_major": 2,
    "version_minor": 0
   }
  }
 },
 "nbformat": 4,
 "nbformat_minor": 5
}
